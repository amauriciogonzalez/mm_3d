{
 "cells": [
  {
   "cell_type": "code",
   "id": "964ccced",
   "metadata": {
    "jupyter": {
     "is_executing": true
    },
    "ExecuteTime": {
     "start_time": "2024-10-30T20:38:41.692247Z"
    }
   },
   "source": [
    "import torch\n",
    "\n",
    "from shap_e.diffusion.sample import sample_latents\n",
    "from shap_e.diffusion.gaussian_diffusion import diffusion_from_config\n",
    "from shap_e.models.download import load_model, load_config\n",
    "from shap_e.util.notebooks import create_pan_cameras, decode_latent_images, gif_widget\n",
    "from shap_e.util.image_util import load_image\n",
    "from MM_Difussion import combinedCLIP\n",
    "from shap_e.models.generation.latent_diffusion import SplitVectorDiffusion"
   ],
   "outputs": [
    {
     "name": "stderr",
     "output_type": "stream",
     "text": [
      "/mnt/c/Users/Robinson/OneDrive/Desktop/Classes_Fall_2024/CAP6411/Project_Real/shap-e/shap-e/shap_e/models/nn/checkpoint.py:32: FutureWarning: `torch.cuda.amp.custom_fwd(args...)` is deprecated. Please use `torch.amp.custom_fwd(args..., device_type='cuda')` instead.\n",
      "  def forward(ctx, run_function, length, *args):\n",
      "/mnt/c/Users/Robinson/OneDrive/Desktop/Classes_Fall_2024/CAP6411/Project_Real/shap-e/shap-e/shap_e/models/nn/checkpoint.py:44: FutureWarning: `torch.cuda.amp.custom_bwd(args...)` is deprecated. Please use `torch.amp.custom_bwd(args..., device_type='cuda')` instead.\n",
      "  def backward(ctx, *output_grads):\n",
      "/mnt/c/Users/Robinson/OneDrive/Desktop/Classes_Fall_2024/CAP6411/Project_Real/shap-e/shap-e/shap_e/models/nn/checkpoint.py:62: FutureWarning: `torch.cuda.amp.custom_fwd(args...)` is deprecated. Please use `torch.amp.custom_fwd(args..., device_type='cuda')` instead.\n",
      "  def forward(ctx, run_function, length_1, length_2, *args):\n",
      "/mnt/c/Users/Robinson/OneDrive/Desktop/Classes_Fall_2024/CAP6411/Project_Real/shap-e/shap-e/shap_e/models/nn/checkpoint.py:87: FutureWarning: `torch.cuda.amp.custom_bwd(args...)` is deprecated. Please use `torch.amp.custom_bwd(args..., device_type='cuda')` instead.\n",
      "  def backward(ctx, *all_output_grads):\n"
     ]
    }
   ],
   "execution_count": null
  },
  {
   "cell_type": "code",
   "id": "8eed3a76",
   "metadata": {
    "ExecuteTime": {
     "end_time": "2024-10-25T22:20:14.233003Z",
     "start_time": "2024-10-25T22:20:14.229890Z"
    }
   },
   "source": [
    "device = torch.device('cuda' if torch.cuda.is_available() else 'cpu')"
   ],
   "outputs": [],
   "execution_count": 2
  },
  {
   "cell_type": "code",
   "id": "2d922637",
   "metadata": {
    "ExecuteTime": {
     "end_time": "2024-10-25T22:34:48.201821Z",
     "start_time": "2024-10-25T22:20:15.142725Z"
    }
   },
   "source": [
    "xm = load_model('transmitter', device=device)\n",
    "model = load_model('image300M', device=device)\n",
    "model_text = load_model('text300M', device=device)\n",
    "diffusion = diffusion_from_config(load_config('diffusion'))"
   ],
   "outputs": [
    {
     "data": {
      "text/plain": [
       "  0%|          | 0.00/1.78G [00:00<?, ?iB/s]"
      ],
      "application/vnd.jupyter.widget-view+json": {
       "version_major": 2,
       "version_minor": 0,
       "model_id": "64f4a3f0ecc44b59b8a074825805ceb1"
      }
     },
     "metadata": {},
     "output_type": "display_data"
    },
    {
     "name": "stderr",
     "output_type": "stream",
     "text": [
      "/mnt/c/Users/Robinson/OneDrive/Desktop/Classes_Fall_2024/CAP6411/Project_Real/shap-e/shap-e/shap_e/models/download.py:136: FutureWarning: You are using `torch.load` with `weights_only=False` (the current default value), which uses the default pickle module implicitly. It is possible to construct malicious pickle data which will execute arbitrary code during unpickling (See https://github.com/pytorch/pytorch/blob/main/SECURITY.md#untrusted-models for more details). In a future release, the default value for `weights_only` will be flipped to `True`. This limits the functions that could be executed during unpickling. Arbitrary objects will no longer be allowed to be loaded via this mode unless they are explicitly allowlisted by the user via `torch.serialization.add_safe_globals`. We recommend you start setting `weights_only=True` for any use case where you don't have full control of the loaded file. Please open an issue on GitHub for any issues related to this experimental feature.\n",
      "  return torch.load(path, map_location=device)\n",
      "100%|███████████████████████████████████████| 890M/890M [01:07<00:00, 13.8MiB/s]\n"
     ]
    },
    {
     "data": {
      "text/plain": [
       "  0%|          | 0.00/1.26G [00:00<?, ?iB/s]"
      ],
      "application/vnd.jupyter.widget-view+json": {
       "version_major": 2,
       "version_minor": 0,
       "model_id": "b3d9fe55d0ae42e999b1f687e94c9541"
      }
     },
     "metadata": {},
     "output_type": "display_data"
    },
    {
     "name": "stderr",
     "output_type": "stream",
     "text": [
      "/mnt/c/Users/Robinson/OneDrive/Desktop/Classes_Fall_2024/CAP6411/Project_Real/shap-e/shap-e/shap_e/models/download.py:136: FutureWarning: You are using `torch.load` with `weights_only=False` (the current default value), which uses the default pickle module implicitly. It is possible to construct malicious pickle data which will execute arbitrary code during unpickling (See https://github.com/pytorch/pytorch/blob/main/SECURITY.md#untrusted-models for more details). In a future release, the default value for `weights_only` will be flipped to `True`. This limits the functions that could be executed during unpickling. Arbitrary objects will no longer be allowed to be loaded via this mode unless they are explicitly allowlisted by the user via `torch.serialization.add_safe_globals`. We recommend you start setting `weights_only=True` for any use case where you don't have full control of the loaded file. Please open an issue on GitHub for any issues related to this experimental feature.\n",
      "  return torch.load(path, map_location=device)\n"
     ]
    },
    {
     "data": {
      "text/plain": [
       "  0%|          | 0.00/1.26G [00:00<?, ?iB/s]"
      ],
      "application/vnd.jupyter.widget-view+json": {
       "version_major": 2,
       "version_minor": 0,
       "model_id": "944a12d52aae47feb55f01523d7c1b7d"
      }
     },
     "metadata": {},
     "output_type": "display_data"
    }
   ],
   "execution_count": 3
  },
  {
   "metadata": {
    "ExecuteTime": {
     "end_time": "2024-10-25T22:46:04.524011Z",
     "start_time": "2024-10-25T22:45:52.427229Z"
    }
   },
   "cell_type": "code",
   "source": "cclip = combinedCLIP(device=device, dtype=torch.float32, n_ctx=1024, token_cond=True, frozen_clip=True, width=1024, input_channels=1024, output_channels=2048, time_token_cond=True, layers=24, use_pos_emb=True).to(device)",
   "id": "9abb0ec45b42c8a8",
   "outputs": [
    {
     "name": "stdout",
     "output_type": "stream",
     "text": [
      "1024\n"
     ]
    }
   ],
   "execution_count": 4
  },
  {
   "metadata": {
    "ExecuteTime": {
     "end_time": "2024-10-25T22:46:04.541556Z",
     "start_time": "2024-10-25T22:46:04.538800Z"
    }
   },
   "cell_type": "code",
   "source": "finalcclip = SplitVectorDiffusion(device=device, wrapped=cclip, n_ctx=1024, d_latent=1024*1024)",
   "id": "680e74b54d098407",
   "outputs": [],
   "execution_count": 5
  },
  {
   "metadata": {
    "ExecuteTime": {
     "end_time": "2024-10-25T22:46:04.598374Z",
     "start_time": "2024-10-25T22:46:04.594590Z"
    }
   },
   "cell_type": "code",
   "source": [
    "\n",
    "def load_state_dict(model, model_image, model_text, mode=\"image\"):\n",
    "    j = 0\n",
    "    for i, k in model.named_parameters():\n",
    "        if i in model_text.state_dict().keys() and i in model_image.state_dict().keys():\n",
    "            if mode == \"average\":\n",
    "                k.data = (model_image.state_dict()[i] + model_text.state_dict()[i])/2\n",
    "            elif mode == \"text\":\n",
    "                k.data = model_text.state_dict()[i]\n",
    "            elif mode == \"image\":\n",
    "                k.data = model_image.state_dict()[i]\n",
    "            else:\n",
    "                raise ValueError(\"Mode not recognized\")\n",
    "            j+=1\n",
    "        else:\n",
    "            if i in model_text.state_dict().keys():\n",
    "                k.data = model_text.state_dict()[i]\n",
    "                j+=1\n",
    "            else:\n",
    "                key = i.replace(\"_img\", \"\")\n",
    "                k.data = model_image.state_dict()[key]\n",
    "                j+=1\n",
    "        \n",
    "        print(j)"
   ],
   "id": "9e594a0337ca9cd5",
   "outputs": [],
   "execution_count": 6
  },
  {
   "metadata": {
    "ExecuteTime": {
     "end_time": "2024-10-25T22:46:04.651769Z",
     "start_time": "2024-10-25T22:46:04.645002Z"
    }
   },
   "cell_type": "code",
   "source": "len(finalcclip.state_dict().keys())",
   "id": "96dc1676a85d2ad4",
   "outputs": [
    {
     "data": {
      "text/plain": [
       "307"
      ]
     },
     "execution_count": 7,
     "metadata": {},
     "output_type": "execute_result"
    }
   ],
   "execution_count": 7
  },
  {
   "metadata": {
    "ExecuteTime": {
     "end_time": "2024-10-25T22:46:05.611829Z",
     "start_time": "2024-10-25T22:46:04.753804Z"
    }
   },
   "cell_type": "code",
   "source": "load_state_dict(finalcclip, model, model_text)",
   "id": "f882111f3502c7d9",
   "outputs": [
    {
     "name": "stdout",
     "output_type": "stream",
     "text": [
      "Copying wrapped.pos_emb\n",
      "1\n",
      "Copying wrapped.time_embed.c_fc.weight\n",
      "2\n",
      "Copying wrapped.time_embed.c_fc.bias\n",
      "3\n",
      "Copying wrapped.time_embed.c_proj.weight\n",
      "4\n",
      "Copying wrapped.time_embed.c_proj.bias\n",
      "5\n",
      "Copying wrapped.ln_pre.weight\n",
      "6\n",
      "Copying wrapped.ln_pre.bias\n",
      "7\n",
      "Copying wrapped.backbone.resblocks.0.attn.c_qkv.weight\n",
      "8\n",
      "Copying wrapped.backbone.resblocks.0.attn.c_qkv.bias\n",
      "9\n",
      "Copying wrapped.backbone.resblocks.0.attn.c_proj.weight\n",
      "10\n",
      "Copying wrapped.backbone.resblocks.0.attn.c_proj.bias\n",
      "11\n",
      "Copying wrapped.backbone.resblocks.0.ln_1.weight\n",
      "12\n",
      "Copying wrapped.backbone.resblocks.0.ln_1.bias\n",
      "13\n",
      "Copying wrapped.backbone.resblocks.0.mlp.c_fc.weight\n",
      "14\n",
      "Copying wrapped.backbone.resblocks.0.mlp.c_fc.bias\n",
      "15\n",
      "Copying wrapped.backbone.resblocks.0.mlp.c_proj.weight\n",
      "16\n",
      "Copying wrapped.backbone.resblocks.0.mlp.c_proj.bias\n",
      "17\n",
      "Copying wrapped.backbone.resblocks.0.ln_2.weight\n",
      "18\n",
      "Copying wrapped.backbone.resblocks.0.ln_2.bias\n",
      "19\n",
      "Copying wrapped.backbone.resblocks.1.attn.c_qkv.weight\n",
      "20\n",
      "Copying wrapped.backbone.resblocks.1.attn.c_qkv.bias\n",
      "21\n",
      "Copying wrapped.backbone.resblocks.1.attn.c_proj.weight\n",
      "22\n",
      "Copying wrapped.backbone.resblocks.1.attn.c_proj.bias\n",
      "23\n",
      "Copying wrapped.backbone.resblocks.1.ln_1.weight\n",
      "24\n",
      "Copying wrapped.backbone.resblocks.1.ln_1.bias\n",
      "25\n",
      "Copying wrapped.backbone.resblocks.1.mlp.c_fc.weight\n",
      "26\n",
      "Copying wrapped.backbone.resblocks.1.mlp.c_fc.bias\n",
      "27\n",
      "Copying wrapped.backbone.resblocks.1.mlp.c_proj.weight\n",
      "28\n",
      "Copying wrapped.backbone.resblocks.1.mlp.c_proj.bias\n",
      "29\n",
      "Copying wrapped.backbone.resblocks.1.ln_2.weight\n",
      "30\n",
      "Copying wrapped.backbone.resblocks.1.ln_2.bias\n",
      "31\n",
      "Copying wrapped.backbone.resblocks.2.attn.c_qkv.weight\n",
      "32\n",
      "Copying wrapped.backbone.resblocks.2.attn.c_qkv.bias\n",
      "33\n",
      "Copying wrapped.backbone.resblocks.2.attn.c_proj.weight\n",
      "34\n",
      "Copying wrapped.backbone.resblocks.2.attn.c_proj.bias\n",
      "35\n",
      "Copying wrapped.backbone.resblocks.2.ln_1.weight\n",
      "36\n",
      "Copying wrapped.backbone.resblocks.2.ln_1.bias\n",
      "37\n",
      "Copying wrapped.backbone.resblocks.2.mlp.c_fc.weight\n",
      "38\n",
      "Copying wrapped.backbone.resblocks.2.mlp.c_fc.bias\n",
      "39\n",
      "Copying wrapped.backbone.resblocks.2.mlp.c_proj.weight\n",
      "40\n",
      "Copying wrapped.backbone.resblocks.2.mlp.c_proj.bias\n",
      "41\n",
      "Copying wrapped.backbone.resblocks.2.ln_2.weight\n",
      "42\n",
      "Copying wrapped.backbone.resblocks.2.ln_2.bias\n",
      "43\n",
      "Copying wrapped.backbone.resblocks.3.attn.c_qkv.weight\n",
      "44\n",
      "Copying wrapped.backbone.resblocks.3.attn.c_qkv.bias\n",
      "45\n",
      "Copying wrapped.backbone.resblocks.3.attn.c_proj.weight\n",
      "46\n",
      "Copying wrapped.backbone.resblocks.3.attn.c_proj.bias\n",
      "47\n",
      "Copying wrapped.backbone.resblocks.3.ln_1.weight\n",
      "48\n",
      "Copying wrapped.backbone.resblocks.3.ln_1.bias\n",
      "49\n",
      "Copying wrapped.backbone.resblocks.3.mlp.c_fc.weight\n",
      "50\n",
      "Copying wrapped.backbone.resblocks.3.mlp.c_fc.bias\n",
      "51\n",
      "Copying wrapped.backbone.resblocks.3.mlp.c_proj.weight\n",
      "52\n",
      "Copying wrapped.backbone.resblocks.3.mlp.c_proj.bias\n",
      "53\n",
      "Copying wrapped.backbone.resblocks.3.ln_2.weight\n",
      "54\n",
      "Copying wrapped.backbone.resblocks.3.ln_2.bias\n",
      "55\n",
      "Copying wrapped.backbone.resblocks.4.attn.c_qkv.weight\n",
      "56\n",
      "Copying wrapped.backbone.resblocks.4.attn.c_qkv.bias\n",
      "57\n",
      "Copying wrapped.backbone.resblocks.4.attn.c_proj.weight\n",
      "58\n",
      "Copying wrapped.backbone.resblocks.4.attn.c_proj.bias\n",
      "59\n",
      "Copying wrapped.backbone.resblocks.4.ln_1.weight\n",
      "60\n",
      "Copying wrapped.backbone.resblocks.4.ln_1.bias\n",
      "61\n",
      "Copying wrapped.backbone.resblocks.4.mlp.c_fc.weight\n",
      "62\n",
      "Copying wrapped.backbone.resblocks.4.mlp.c_fc.bias\n",
      "63\n",
      "Copying wrapped.backbone.resblocks.4.mlp.c_proj.weight\n",
      "64\n",
      "Copying wrapped.backbone.resblocks.4.mlp.c_proj.bias\n",
      "65\n",
      "Copying wrapped.backbone.resblocks.4.ln_2.weight\n",
      "66\n",
      "Copying wrapped.backbone.resblocks.4.ln_2.bias\n",
      "67\n",
      "Copying wrapped.backbone.resblocks.5.attn.c_qkv.weight\n",
      "68\n",
      "Copying wrapped.backbone.resblocks.5.attn.c_qkv.bias\n",
      "69\n",
      "Copying wrapped.backbone.resblocks.5.attn.c_proj.weight\n",
      "70\n",
      "Copying wrapped.backbone.resblocks.5.attn.c_proj.bias\n",
      "71\n",
      "Copying wrapped.backbone.resblocks.5.ln_1.weight\n",
      "72\n",
      "Copying wrapped.backbone.resblocks.5.ln_1.bias\n",
      "73\n",
      "Copying wrapped.backbone.resblocks.5.mlp.c_fc.weight\n",
      "74\n",
      "Copying wrapped.backbone.resblocks.5.mlp.c_fc.bias\n",
      "75\n",
      "Copying wrapped.backbone.resblocks.5.mlp.c_proj.weight\n",
      "76\n",
      "Copying wrapped.backbone.resblocks.5.mlp.c_proj.bias\n",
      "77\n",
      "Copying wrapped.backbone.resblocks.5.ln_2.weight\n",
      "78\n",
      "Copying wrapped.backbone.resblocks.5.ln_2.bias\n",
      "79\n",
      "Copying wrapped.backbone.resblocks.6.attn.c_qkv.weight\n",
      "80\n",
      "Copying wrapped.backbone.resblocks.6.attn.c_qkv.bias\n",
      "81\n",
      "Copying wrapped.backbone.resblocks.6.attn.c_proj.weight\n",
      "82\n",
      "Copying wrapped.backbone.resblocks.6.attn.c_proj.bias\n",
      "83\n",
      "Copying wrapped.backbone.resblocks.6.ln_1.weight\n",
      "84\n",
      "Copying wrapped.backbone.resblocks.6.ln_1.bias\n",
      "85\n",
      "Copying wrapped.backbone.resblocks.6.mlp.c_fc.weight\n",
      "86\n",
      "Copying wrapped.backbone.resblocks.6.mlp.c_fc.bias\n",
      "87\n",
      "Copying wrapped.backbone.resblocks.6.mlp.c_proj.weight\n",
      "88\n",
      "Copying wrapped.backbone.resblocks.6.mlp.c_proj.bias\n",
      "89\n",
      "Copying wrapped.backbone.resblocks.6.ln_2.weight\n",
      "90\n",
      "Copying wrapped.backbone.resblocks.6.ln_2.bias\n",
      "91\n",
      "Copying wrapped.backbone.resblocks.7.attn.c_qkv.weight\n",
      "92\n",
      "Copying wrapped.backbone.resblocks.7.attn.c_qkv.bias\n",
      "93\n",
      "Copying wrapped.backbone.resblocks.7.attn.c_proj.weight\n",
      "94\n",
      "Copying wrapped.backbone.resblocks.7.attn.c_proj.bias\n",
      "95\n",
      "Copying wrapped.backbone.resblocks.7.ln_1.weight\n",
      "96\n",
      "Copying wrapped.backbone.resblocks.7.ln_1.bias\n",
      "97\n",
      "Copying wrapped.backbone.resblocks.7.mlp.c_fc.weight\n",
      "98\n",
      "Copying wrapped.backbone.resblocks.7.mlp.c_fc.bias\n",
      "99\n",
      "Copying wrapped.backbone.resblocks.7.mlp.c_proj.weight\n",
      "100\n",
      "Copying wrapped.backbone.resblocks.7.mlp.c_proj.bias\n",
      "101\n",
      "Copying wrapped.backbone.resblocks.7.ln_2.weight\n",
      "102\n",
      "Copying wrapped.backbone.resblocks.7.ln_2.bias\n",
      "103\n",
      "Copying wrapped.backbone.resblocks.8.attn.c_qkv.weight\n",
      "104\n",
      "Copying wrapped.backbone.resblocks.8.attn.c_qkv.bias\n",
      "105\n",
      "Copying wrapped.backbone.resblocks.8.attn.c_proj.weight\n",
      "106\n",
      "Copying wrapped.backbone.resblocks.8.attn.c_proj.bias\n",
      "107\n",
      "Copying wrapped.backbone.resblocks.8.ln_1.weight\n",
      "108\n",
      "Copying wrapped.backbone.resblocks.8.ln_1.bias\n",
      "109\n",
      "Copying wrapped.backbone.resblocks.8.mlp.c_fc.weight\n",
      "110\n",
      "Copying wrapped.backbone.resblocks.8.mlp.c_fc.bias\n",
      "111\n",
      "Copying wrapped.backbone.resblocks.8.mlp.c_proj.weight\n",
      "112\n",
      "Copying wrapped.backbone.resblocks.8.mlp.c_proj.bias\n",
      "113\n",
      "Copying wrapped.backbone.resblocks.8.ln_2.weight\n",
      "114\n",
      "Copying wrapped.backbone.resblocks.8.ln_2.bias\n",
      "115\n",
      "Copying wrapped.backbone.resblocks.9.attn.c_qkv.weight\n",
      "116\n",
      "Copying wrapped.backbone.resblocks.9.attn.c_qkv.bias\n",
      "117\n",
      "Copying wrapped.backbone.resblocks.9.attn.c_proj.weight\n",
      "118\n",
      "Copying wrapped.backbone.resblocks.9.attn.c_proj.bias\n",
      "119\n",
      "Copying wrapped.backbone.resblocks.9.ln_1.weight\n",
      "120\n",
      "Copying wrapped.backbone.resblocks.9.ln_1.bias\n",
      "121\n",
      "Copying wrapped.backbone.resblocks.9.mlp.c_fc.weight\n",
      "122\n",
      "Copying wrapped.backbone.resblocks.9.mlp.c_fc.bias\n",
      "123\n",
      "Copying wrapped.backbone.resblocks.9.mlp.c_proj.weight\n",
      "124\n",
      "Copying wrapped.backbone.resblocks.9.mlp.c_proj.bias\n",
      "125\n",
      "Copying wrapped.backbone.resblocks.9.ln_2.weight\n",
      "126\n",
      "Copying wrapped.backbone.resblocks.9.ln_2.bias\n",
      "127\n",
      "Copying wrapped.backbone.resblocks.10.attn.c_qkv.weight\n",
      "128\n",
      "Copying wrapped.backbone.resblocks.10.attn.c_qkv.bias\n",
      "129\n",
      "Copying wrapped.backbone.resblocks.10.attn.c_proj.weight\n",
      "130\n",
      "Copying wrapped.backbone.resblocks.10.attn.c_proj.bias\n",
      "131\n",
      "Copying wrapped.backbone.resblocks.10.ln_1.weight\n",
      "132\n",
      "Copying wrapped.backbone.resblocks.10.ln_1.bias\n",
      "133\n",
      "Copying wrapped.backbone.resblocks.10.mlp.c_fc.weight\n",
      "134\n",
      "Copying wrapped.backbone.resblocks.10.mlp.c_fc.bias\n",
      "135\n",
      "Copying wrapped.backbone.resblocks.10.mlp.c_proj.weight\n",
      "136\n",
      "Copying wrapped.backbone.resblocks.10.mlp.c_proj.bias\n",
      "137\n",
      "Copying wrapped.backbone.resblocks.10.ln_2.weight\n",
      "138\n",
      "Copying wrapped.backbone.resblocks.10.ln_2.bias\n",
      "139\n",
      "Copying wrapped.backbone.resblocks.11.attn.c_qkv.weight\n",
      "140\n",
      "Copying wrapped.backbone.resblocks.11.attn.c_qkv.bias\n",
      "141\n",
      "Copying wrapped.backbone.resblocks.11.attn.c_proj.weight\n",
      "142\n",
      "Copying wrapped.backbone.resblocks.11.attn.c_proj.bias\n",
      "143\n",
      "Copying wrapped.backbone.resblocks.11.ln_1.weight\n",
      "144\n",
      "Copying wrapped.backbone.resblocks.11.ln_1.bias\n",
      "145\n",
      "Copying wrapped.backbone.resblocks.11.mlp.c_fc.weight\n",
      "146\n",
      "Copying wrapped.backbone.resblocks.11.mlp.c_fc.bias\n",
      "147\n",
      "Copying wrapped.backbone.resblocks.11.mlp.c_proj.weight\n",
      "148\n",
      "Copying wrapped.backbone.resblocks.11.mlp.c_proj.bias\n",
      "149\n",
      "Copying wrapped.backbone.resblocks.11.ln_2.weight\n",
      "150\n",
      "Copying wrapped.backbone.resblocks.11.ln_2.bias\n",
      "151\n",
      "Copying wrapped.backbone.resblocks.12.attn.c_qkv.weight\n",
      "152\n",
      "Copying wrapped.backbone.resblocks.12.attn.c_qkv.bias\n",
      "153\n",
      "Copying wrapped.backbone.resblocks.12.attn.c_proj.weight\n",
      "154\n",
      "Copying wrapped.backbone.resblocks.12.attn.c_proj.bias\n",
      "155\n",
      "Copying wrapped.backbone.resblocks.12.ln_1.weight\n",
      "156\n",
      "Copying wrapped.backbone.resblocks.12.ln_1.bias\n",
      "157\n",
      "Copying wrapped.backbone.resblocks.12.mlp.c_fc.weight\n",
      "158\n",
      "Copying wrapped.backbone.resblocks.12.mlp.c_fc.bias\n",
      "159\n",
      "Copying wrapped.backbone.resblocks.12.mlp.c_proj.weight\n",
      "160\n",
      "Copying wrapped.backbone.resblocks.12.mlp.c_proj.bias\n",
      "161\n",
      "Copying wrapped.backbone.resblocks.12.ln_2.weight\n",
      "162\n",
      "Copying wrapped.backbone.resblocks.12.ln_2.bias\n",
      "163\n",
      "Copying wrapped.backbone.resblocks.13.attn.c_qkv.weight\n",
      "164\n",
      "Copying wrapped.backbone.resblocks.13.attn.c_qkv.bias\n",
      "165\n",
      "Copying wrapped.backbone.resblocks.13.attn.c_proj.weight\n",
      "166\n",
      "Copying wrapped.backbone.resblocks.13.attn.c_proj.bias\n",
      "167\n",
      "Copying wrapped.backbone.resblocks.13.ln_1.weight\n",
      "168\n",
      "Copying wrapped.backbone.resblocks.13.ln_1.bias\n",
      "169\n",
      "Copying wrapped.backbone.resblocks.13.mlp.c_fc.weight\n",
      "170\n",
      "Copying wrapped.backbone.resblocks.13.mlp.c_fc.bias\n",
      "171\n",
      "Copying wrapped.backbone.resblocks.13.mlp.c_proj.weight\n",
      "172\n",
      "Copying wrapped.backbone.resblocks.13.mlp.c_proj.bias\n",
      "173\n",
      "Copying wrapped.backbone.resblocks.13.ln_2.weight\n",
      "174\n",
      "Copying wrapped.backbone.resblocks.13.ln_2.bias\n",
      "175\n",
      "Copying wrapped.backbone.resblocks.14.attn.c_qkv.weight\n",
      "176\n",
      "Copying wrapped.backbone.resblocks.14.attn.c_qkv.bias\n",
      "177\n",
      "Copying wrapped.backbone.resblocks.14.attn.c_proj.weight\n",
      "178\n",
      "Copying wrapped.backbone.resblocks.14.attn.c_proj.bias\n",
      "179\n",
      "Copying wrapped.backbone.resblocks.14.ln_1.weight\n",
      "180\n",
      "Copying wrapped.backbone.resblocks.14.ln_1.bias\n",
      "181\n",
      "Copying wrapped.backbone.resblocks.14.mlp.c_fc.weight\n",
      "182\n",
      "Copying wrapped.backbone.resblocks.14.mlp.c_fc.bias\n",
      "183\n",
      "Copying wrapped.backbone.resblocks.14.mlp.c_proj.weight\n",
      "184\n",
      "Copying wrapped.backbone.resblocks.14.mlp.c_proj.bias\n",
      "185\n",
      "Copying wrapped.backbone.resblocks.14.ln_2.weight\n",
      "186\n",
      "Copying wrapped.backbone.resblocks.14.ln_2.bias\n",
      "187\n",
      "Copying wrapped.backbone.resblocks.15.attn.c_qkv.weight\n",
      "188\n",
      "Copying wrapped.backbone.resblocks.15.attn.c_qkv.bias\n",
      "189\n",
      "Copying wrapped.backbone.resblocks.15.attn.c_proj.weight\n",
      "190\n",
      "Copying wrapped.backbone.resblocks.15.attn.c_proj.bias\n",
      "191\n",
      "Copying wrapped.backbone.resblocks.15.ln_1.weight\n",
      "192\n",
      "Copying wrapped.backbone.resblocks.15.ln_1.bias\n",
      "193\n",
      "Copying wrapped.backbone.resblocks.15.mlp.c_fc.weight\n",
      "194\n",
      "Copying wrapped.backbone.resblocks.15.mlp.c_fc.bias\n",
      "195\n",
      "Copying wrapped.backbone.resblocks.15.mlp.c_proj.weight\n",
      "196\n",
      "Copying wrapped.backbone.resblocks.15.mlp.c_proj.bias\n",
      "197\n",
      "Copying wrapped.backbone.resblocks.15.ln_2.weight\n",
      "198\n",
      "Copying wrapped.backbone.resblocks.15.ln_2.bias\n",
      "199\n",
      "Copying wrapped.backbone.resblocks.16.attn.c_qkv.weight\n",
      "200\n",
      "Copying wrapped.backbone.resblocks.16.attn.c_qkv.bias\n",
      "201\n",
      "Copying wrapped.backbone.resblocks.16.attn.c_proj.weight\n",
      "202\n",
      "Copying wrapped.backbone.resblocks.16.attn.c_proj.bias\n",
      "203\n",
      "Copying wrapped.backbone.resblocks.16.ln_1.weight\n",
      "204\n",
      "Copying wrapped.backbone.resblocks.16.ln_1.bias\n",
      "205\n",
      "Copying wrapped.backbone.resblocks.16.mlp.c_fc.weight\n",
      "206\n",
      "Copying wrapped.backbone.resblocks.16.mlp.c_fc.bias\n",
      "207\n",
      "Copying wrapped.backbone.resblocks.16.mlp.c_proj.weight\n",
      "208\n",
      "Copying wrapped.backbone.resblocks.16.mlp.c_proj.bias\n",
      "209\n",
      "Copying wrapped.backbone.resblocks.16.ln_2.weight\n",
      "210\n",
      "Copying wrapped.backbone.resblocks.16.ln_2.bias\n",
      "211\n",
      "Copying wrapped.backbone.resblocks.17.attn.c_qkv.weight\n",
      "212\n",
      "Copying wrapped.backbone.resblocks.17.attn.c_qkv.bias\n",
      "213\n",
      "Copying wrapped.backbone.resblocks.17.attn.c_proj.weight\n",
      "214\n",
      "Copying wrapped.backbone.resblocks.17.attn.c_proj.bias\n",
      "215\n",
      "Copying wrapped.backbone.resblocks.17.ln_1.weight\n",
      "216\n",
      "Copying wrapped.backbone.resblocks.17.ln_1.bias\n",
      "217\n",
      "Copying wrapped.backbone.resblocks.17.mlp.c_fc.weight\n",
      "218\n",
      "Copying wrapped.backbone.resblocks.17.mlp.c_fc.bias\n",
      "219\n",
      "Copying wrapped.backbone.resblocks.17.mlp.c_proj.weight\n",
      "220\n",
      "Copying wrapped.backbone.resblocks.17.mlp.c_proj.bias\n",
      "221\n",
      "Copying wrapped.backbone.resblocks.17.ln_2.weight\n",
      "222\n",
      "Copying wrapped.backbone.resblocks.17.ln_2.bias\n",
      "223\n",
      "Copying wrapped.backbone.resblocks.18.attn.c_qkv.weight\n",
      "224\n",
      "Copying wrapped.backbone.resblocks.18.attn.c_qkv.bias\n",
      "225\n",
      "Copying wrapped.backbone.resblocks.18.attn.c_proj.weight\n",
      "226\n",
      "Copying wrapped.backbone.resblocks.18.attn.c_proj.bias\n",
      "227\n",
      "Copying wrapped.backbone.resblocks.18.ln_1.weight\n",
      "228\n",
      "Copying wrapped.backbone.resblocks.18.ln_1.bias\n",
      "229\n",
      "Copying wrapped.backbone.resblocks.18.mlp.c_fc.weight\n",
      "230\n",
      "Copying wrapped.backbone.resblocks.18.mlp.c_fc.bias\n",
      "231\n",
      "Copying wrapped.backbone.resblocks.18.mlp.c_proj.weight\n",
      "232\n",
      "Copying wrapped.backbone.resblocks.18.mlp.c_proj.bias\n",
      "233\n",
      "Copying wrapped.backbone.resblocks.18.ln_2.weight\n",
      "234\n",
      "Copying wrapped.backbone.resblocks.18.ln_2.bias\n",
      "235\n",
      "Copying wrapped.backbone.resblocks.19.attn.c_qkv.weight\n",
      "236\n",
      "Copying wrapped.backbone.resblocks.19.attn.c_qkv.bias\n",
      "237\n",
      "Copying wrapped.backbone.resblocks.19.attn.c_proj.weight\n",
      "238\n",
      "Copying wrapped.backbone.resblocks.19.attn.c_proj.bias\n",
      "239\n",
      "Copying wrapped.backbone.resblocks.19.ln_1.weight\n",
      "240\n",
      "Copying wrapped.backbone.resblocks.19.ln_1.bias\n",
      "241\n",
      "Copying wrapped.backbone.resblocks.19.mlp.c_fc.weight\n",
      "242\n",
      "Copying wrapped.backbone.resblocks.19.mlp.c_fc.bias\n",
      "243\n",
      "Copying wrapped.backbone.resblocks.19.mlp.c_proj.weight\n",
      "244\n",
      "Copying wrapped.backbone.resblocks.19.mlp.c_proj.bias\n",
      "245\n",
      "Copying wrapped.backbone.resblocks.19.ln_2.weight\n",
      "246\n",
      "Copying wrapped.backbone.resblocks.19.ln_2.bias\n",
      "247\n",
      "Copying wrapped.backbone.resblocks.20.attn.c_qkv.weight\n",
      "248\n",
      "Copying wrapped.backbone.resblocks.20.attn.c_qkv.bias\n",
      "249\n",
      "Copying wrapped.backbone.resblocks.20.attn.c_proj.weight\n",
      "250\n",
      "Copying wrapped.backbone.resblocks.20.attn.c_proj.bias\n",
      "251\n",
      "Copying wrapped.backbone.resblocks.20.ln_1.weight\n",
      "252\n",
      "Copying wrapped.backbone.resblocks.20.ln_1.bias\n",
      "253\n",
      "Copying wrapped.backbone.resblocks.20.mlp.c_fc.weight\n",
      "254\n",
      "Copying wrapped.backbone.resblocks.20.mlp.c_fc.bias\n",
      "255\n",
      "Copying wrapped.backbone.resblocks.20.mlp.c_proj.weight\n",
      "256\n",
      "Copying wrapped.backbone.resblocks.20.mlp.c_proj.bias\n",
      "257\n",
      "Copying wrapped.backbone.resblocks.20.ln_2.weight\n",
      "258\n",
      "Copying wrapped.backbone.resblocks.20.ln_2.bias\n",
      "259\n",
      "Copying wrapped.backbone.resblocks.21.attn.c_qkv.weight\n",
      "260\n",
      "Copying wrapped.backbone.resblocks.21.attn.c_qkv.bias\n",
      "261\n",
      "Copying wrapped.backbone.resblocks.21.attn.c_proj.weight\n",
      "262\n",
      "Copying wrapped.backbone.resblocks.21.attn.c_proj.bias\n",
      "263\n",
      "Copying wrapped.backbone.resblocks.21.ln_1.weight\n",
      "264\n",
      "Copying wrapped.backbone.resblocks.21.ln_1.bias\n",
      "265\n",
      "Copying wrapped.backbone.resblocks.21.mlp.c_fc.weight\n",
      "266\n",
      "Copying wrapped.backbone.resblocks.21.mlp.c_fc.bias\n",
      "267\n",
      "Copying wrapped.backbone.resblocks.21.mlp.c_proj.weight\n",
      "268\n",
      "Copying wrapped.backbone.resblocks.21.mlp.c_proj.bias\n",
      "269\n",
      "Copying wrapped.backbone.resblocks.21.ln_2.weight\n",
      "270\n",
      "Copying wrapped.backbone.resblocks.21.ln_2.bias\n",
      "271\n",
      "Copying wrapped.backbone.resblocks.22.attn.c_qkv.weight\n",
      "272\n",
      "Copying wrapped.backbone.resblocks.22.attn.c_qkv.bias\n",
      "273\n",
      "Copying wrapped.backbone.resblocks.22.attn.c_proj.weight\n",
      "274\n",
      "Copying wrapped.backbone.resblocks.22.attn.c_proj.bias\n",
      "275\n",
      "Copying wrapped.backbone.resblocks.22.ln_1.weight\n",
      "276\n",
      "Copying wrapped.backbone.resblocks.22.ln_1.bias\n",
      "277\n",
      "Copying wrapped.backbone.resblocks.22.mlp.c_fc.weight\n",
      "278\n",
      "Copying wrapped.backbone.resblocks.22.mlp.c_fc.bias\n",
      "279\n",
      "Copying wrapped.backbone.resblocks.22.mlp.c_proj.weight\n",
      "280\n",
      "Copying wrapped.backbone.resblocks.22.mlp.c_proj.bias\n",
      "281\n",
      "Copying wrapped.backbone.resblocks.22.ln_2.weight\n",
      "282\n",
      "Copying wrapped.backbone.resblocks.22.ln_2.bias\n",
      "283\n",
      "Copying wrapped.backbone.resblocks.23.attn.c_qkv.weight\n",
      "284\n",
      "Copying wrapped.backbone.resblocks.23.attn.c_qkv.bias\n",
      "285\n",
      "Copying wrapped.backbone.resblocks.23.attn.c_proj.weight\n",
      "286\n",
      "Copying wrapped.backbone.resblocks.23.attn.c_proj.bias\n",
      "287\n",
      "Copying wrapped.backbone.resblocks.23.ln_1.weight\n",
      "288\n",
      "Copying wrapped.backbone.resblocks.23.ln_1.bias\n",
      "289\n",
      "Copying wrapped.backbone.resblocks.23.mlp.c_fc.weight\n",
      "290\n",
      "Copying wrapped.backbone.resblocks.23.mlp.c_fc.bias\n",
      "291\n",
      "Copying wrapped.backbone.resblocks.23.mlp.c_proj.weight\n",
      "292\n",
      "Copying wrapped.backbone.resblocks.23.mlp.c_proj.bias\n",
      "293\n",
      "Copying wrapped.backbone.resblocks.23.ln_2.weight\n",
      "294\n",
      "Copying wrapped.backbone.resblocks.23.ln_2.bias\n",
      "295\n",
      "Copying wrapped.ln_post.weight\n",
      "296\n",
      "Copying wrapped.ln_post.bias\n",
      "297\n",
      "Copying wrapped.input_proj.weight\n",
      "298\n",
      "Copying wrapped.input_proj.bias\n",
      "299\n",
      "Copying wrapped.output_proj.weight\n",
      "300\n",
      "Copying wrapped.output_proj.bias\n",
      "301\n",
      "Copying wrapped.clip_embed.weight\n",
      "302\n",
      "Copying wrapped.clip_embed.bias\n",
      "303\n",
      "Copying wrapped.clip_embed.0.weight\n",
      "304\n",
      "Copying wrapped.clip_embed.0.bias\n",
      "305\n",
      "Copying wrapped.clip_embed.1.weight\n",
      "306\n",
      "Copying wrapped.clip_embed.1.bias\n",
      "307\n"
     ]
    }
   ],
   "execution_count": 8
  },
  {
   "cell_type": "code",
   "id": "53d329d0",
   "metadata": {
    "ExecuteTime": {
     "end_time": "2024-10-25T22:50:29.144922Z",
     "start_time": "2024-10-25T22:48:10.956370Z"
    }
   },
   "source": [
    "\n",
    "\n",
    "batch_size = 4\n",
    "guidance_scale = 3.0\n",
    "prompt = \"a corgi in a field\"\n",
    "\n",
    "# To get the best result, you should remove the background and show only the object of interest to the model.\n",
    "image = load_image(\"example_data/corgi.png\")\n",
    "\n",
    "latents = sample_latents(\n",
    "    batch_size=batch_size,\n",
    "    model=finalcclip,\n",
    "    diffusion=diffusion,\n",
    "    guidance_scale=guidance_scale,\n",
    "    model_kwargs=dict(images=[image] * batch_size, texts=[prompt] * batch_size),\n",
    "    progress=True,\n",
    "    clip_denoised=True,\n",
    "    use_fp16=True,\n",
    "    use_karras=True,\n",
    "    karras_steps=5,\n",
    "    sigma_min=1e-3,\n",
    "    sigma_max=160,\n",
    "    s_churn=0,\n",
    ")"
   ],
   "outputs": [
    {
     "data": {
      "text/plain": [
       "  0%|          | 0/5 [00:00<?, ?it/s]"
      ],
      "application/vnd.jupyter.widget-view+json": {
       "version_major": 2,
       "version_minor": 0,
       "model_id": "8c438d6bd42546e593f6ab1009fe6c00"
      }
     },
     "metadata": {},
     "output_type": "display_data"
    },
    {
     "name": "stdout",
     "output_type": "stream",
     "text": [
      "2048\n",
      "torch.Size([8, 2048, 1024])\n",
      "2048\n",
      "torch.Size([8, 2048, 1024])\n",
      "2048\n",
      "torch.Size([8, 2048, 1024])\n",
      "2048\n",
      "torch.Size([8, 2048, 1024])\n",
      "2048\n",
      "torch.Size([8, 2048, 1024])\n",
      "2048\n",
      "torch.Size([8, 2048, 1024])\n",
      "2048\n",
      "torch.Size([8, 2048, 1024])\n",
      "2048\n",
      "torch.Size([8, 2048, 1024])\n",
      "2048\n",
      "torch.Size([8, 2048, 1024])\n"
     ]
    }
   ],
   "execution_count": 10
  },
  {
   "metadata": {
    "ExecuteTime": {
     "end_time": "2024-10-25T23:11:23.513436Z",
     "start_time": "2024-10-25T23:04:37.117288Z"
    }
   },
   "cell_type": "code",
   "source": [
    "render_mode = 'nerf' # you can change this to 'stf' for mesh rendering\n",
    "size = 64 # this is the size of the renders; higher values take longer to render.\n",
    "\n",
    "cameras = create_pan_cameras(size, device)\n",
    "for i, latent in enumerate(latents):\n",
    "    images = decode_latent_images(xm, latent, cameras, rendering_mode=render_mode)\n",
    "    display(gif_widget(images))"
   ],
   "id": "ab5c61267cb307a6",
   "outputs": [
    {
     "data": {
      "text/plain": [
       "HTML(value='<img src=\"data:image/gif;base64,R0lGODlhQABAAIcAAHN9enN8eXJ8eXJ7eXF7eHF6d3B6d3B5d3B5dm95d295dnF4d3…"
      ],
      "application/vnd.jupyter.widget-view+json": {
       "version_major": 2,
       "version_minor": 0,
       "model_id": "6750bf83c8294ca485ef20172f7ab9af"
      }
     },
     "metadata": {},
     "output_type": "display_data"
    },
    {
     "data": {
      "text/plain": [
       "HTML(value='<img src=\"data:image/gif;base64,R0lGODlhQABAAIcAAHN9enN8enN8eXJ8eXJ7eXF7eHF6eHF6d3B6d3B5d3B5dnF4d2…"
      ],
      "application/vnd.jupyter.widget-view+json": {
       "version_major": 2,
       "version_minor": 0,
       "model_id": "b22627d0130d406a87439c7b79af39cc"
      }
     },
     "metadata": {},
     "output_type": "display_data"
    },
    {
     "data": {
      "text/plain": [
       "HTML(value='<img src=\"data:image/gif;base64,R0lGODlhQABAAIcAAHN9enN8eXJ8eXJ7eXJ7eHF6eHF6d3B6d3B5d3B5dm95d3F4dm…"
      ],
      "application/vnd.jupyter.widget-view+json": {
       "version_major": 2,
       "version_minor": 0,
       "model_id": "0629b8817f9f44f8b6ca27a9320e21bf"
      }
     },
     "metadata": {},
     "output_type": "display_data"
    },
    {
     "data": {
      "text/plain": [
       "HTML(value='<img src=\"data:image/gif;base64,R0lGODlhQABAAIcAAHN9enN8enN8eXJ8eXF7eHF6eHF6d3B6d3B5d3B5dm95d3J4d3…"
      ],
      "application/vnd.jupyter.widget-view+json": {
       "version_major": 2,
       "version_minor": 0,
       "model_id": "b28ce2d79a93430a8fe41651ba7a0b9b"
      }
     },
     "metadata": {},
     "output_type": "display_data"
    }
   ],
   "execution_count": 11
  },
  {
   "metadata": {
    "ExecuteTime": {
     "end_time": "2024-10-25T23:13:37.652320Z",
     "start_time": "2024-10-25T23:11:23.565590Z"
    }
   },
   "cell_type": "code",
   "source": [
    "latents = sample_latents(\n",
    "    batch_size=batch_size,\n",
    "    model=model,\n",
    "    diffusion=diffusion,\n",
    "    guidance_scale=guidance_scale,\n",
    "    model_kwargs=dict(images=[image] * batch_size),\n",
    "    progress=True,\n",
    "    clip_denoised=True,\n",
    "    use_fp16=True,\n",
    "    use_karras=True,\n",
    "    karras_steps=5,\n",
    "    sigma_min=1e-3,\n",
    "    sigma_max=160,\n",
    "    s_churn=0,\n",
    ")"
   ],
   "id": "3e52fb10c4504c0f",
   "outputs": [
    {
     "data": {
      "text/plain": [
       "  0%|          | 0/5 [00:00<?, ?it/s]"
      ],
      "application/vnd.jupyter.widget-view+json": {
       "version_major": 2,
       "version_minor": 0,
       "model_id": "41e94286d4a94dc49c656100b67759ac"
      }
     },
     "metadata": {},
     "output_type": "display_data"
    },
    {
     "name": "stdout",
     "output_type": "stream",
     "text": [
      "2048\n",
      "torch.Size([8, 2048, 1024])\n",
      "2048\n",
      "torch.Size([8, 2048, 1024])\n",
      "2048\n",
      "torch.Size([8, 2048, 1024])\n",
      "2048\n",
      "torch.Size([8, 2048, 1024])\n",
      "2048\n",
      "torch.Size([8, 2048, 1024])\n",
      "2048\n",
      "torch.Size([8, 2048, 1024])\n",
      "2048\n",
      "torch.Size([8, 2048, 1024])\n",
      "2048\n",
      "torch.Size([8, 2048, 1024])\n",
      "2048\n",
      "torch.Size([8, 2048, 1024])\n"
     ]
    }
   ],
   "execution_count": 12
  },
  {
   "cell_type": "code",
   "id": "633da2ec",
   "metadata": {
    "ExecuteTime": {
     "end_time": "2024-10-24T23:22:09.998335Z",
     "start_time": "2024-10-24T23:14:25.269682Z"
    }
   },
   "source": [
    "render_mode = 'nerf' # you can change this to 'stf' for mesh rendering\n",
    "size = 64 # this is the size of the renders; higher values take longer to render.\n",
    "\n",
    "cameras = create_pan_cameras(size, device)\n",
    "for i, latent in enumerate(latents):\n",
    "    images = decode_latent_images(xm, latent, cameras, rendering_mode=render_mode)\n",
    "    display(gif_widget(images))"
   ],
   "outputs": [
    {
     "data": {
      "text/plain": [
       "HTML(value='<img src=\"data:image/gif;base64,R0lGODlhQABAAIcAAOTh4OPg3+bf3+Pe3OLd1+He3d3d2OHc3Nzb2eTXy9/Yz93W0d…"
      ],
      "application/vnd.jupyter.widget-view+json": {
       "version_major": 2,
       "version_minor": 0,
       "model_id": "6cf342f52f294eafaee77180d236312c"
      }
     },
     "metadata": {},
     "output_type": "display_data"
    },
    {
     "data": {
      "text/plain": [
       "HTML(value='<img src=\"data:image/gif;base64,R0lGODlhQABAAIcAAPj28vXz8PXz7/Tz7/Py7vPy7fPx7fbw8ffu7fXs6u3s6uzs6O…"
      ],
      "application/vnd.jupyter.widget-view+json": {
       "version_major": 2,
       "version_minor": 0,
       "model_id": "507e9b68c9994ba7916205fa5777a6e5"
      }
     },
     "metadata": {},
     "output_type": "display_data"
    },
    {
     "data": {
      "text/plain": [
       "HTML(value='<img src=\"data:image/gif;base64,R0lGODlhQABAAIcAAPnr5/Tm4u7h3+3g3+zg3uzf2uje2+3d3Ond3Onb2ubc2u3Y0+…"
      ],
      "application/vnd.jupyter.widget-view+json": {
       "version_major": 2,
       "version_minor": 0,
       "model_id": "af4217d93eb14884b429fd10d51afd9e"
      }
     },
     "metadata": {},
     "output_type": "display_data"
    },
    {
     "data": {
      "text/plain": [
       "HTML(value='<img src=\"data:image/gif;base64,R0lGODlhQABAAIcAAPXz6+7t6uvq6O3o5enp5e7n4Ofl4+Tk4OPj3eXi2uDh29/b1d…"
      ],
      "application/vnd.jupyter.widget-view+json": {
       "version_major": 2,
       "version_minor": 0,
       "model_id": "f955d73b0a674ac7b3edfd68a9ab6ced"
      }
     },
     "metadata": {},
     "output_type": "display_data"
    }
   ],
   "execution_count": 20
  }
 ],
 "metadata": {
  "kernelspec": {
   "display_name": "Python 3 (ipykernel)",
   "language": "python",
   "name": "python3"
  },
  "language_info": {
   "codemirror_mode": {
    "name": "ipython",
    "version": 3
   },
   "file_extension": ".py",
   "mimetype": "text/x-python",
   "name": "python",
   "nbconvert_exporter": "python",
   "pygments_lexer": "ipython3",
   "version": "3.9.9"
  }
 },
 "nbformat": 4,
 "nbformat_minor": 5
}
